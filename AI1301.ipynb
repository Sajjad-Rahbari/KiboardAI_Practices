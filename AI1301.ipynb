{
 "cells": [
  {
   "metadata": {},
   "cell_type": "markdown",
   "source": "# Sajjad Rahbri ",
   "id": "5ca03704d460795f"
  },
  {
   "cell_type": "code",
   "id": "initial_id",
   "metadata": {
    "collapsed": true,
    "ExecuteTime": {
     "end_time": "2024-10-04T12:44:58.692865Z",
     "start_time": "2024-10-04T12:44:58.134875Z"
    }
   },
   "source": [
    "import numpy as np\n",
    "\n",
    "array1 = np.random.randint(0,255,(1000,1000))\n",
    "array2 = np.random.randint(0,255,(1000,1000))\n",
    "result = np.zeros((1000,1000))"
   ],
   "outputs": [],
   "execution_count": 3
  },
  {
   "metadata": {
    "ExecuteTime": {
     "end_time": "2024-10-04T12:44:58.706628Z",
     "start_time": "2024-10-04T12:44:58.700868Z"
    }
   },
   "cell_type": "code",
   "source": "array1",
   "id": "50503ef09ac883bd",
   "outputs": [
    {
     "data": {
      "text/plain": [
       "array([[239, 247, 205, ...,  17, 237, 243],\n",
       "       [123,  54,  16, ...,  63,  28, 250],\n",
       "       [122, 176, 162, ...,  97, 170, 155],\n",
       "       ...,\n",
       "       [ 74, 157, 248, ...,  54,  39, 209],\n",
       "       [230, 231,  96, ..., 107, 134,   3],\n",
       "       [ 80,  54, 127, ...,  78,  31, 218]], dtype=int32)"
      ]
     },
     "execution_count": 4,
     "metadata": {},
     "output_type": "execute_result"
    }
   ],
   "execution_count": 4
  },
  {
   "metadata": {
    "ExecuteTime": {
     "end_time": "2024-10-04T12:44:59.565595Z",
     "start_time": "2024-10-04T12:44:59.561482Z"
    }
   },
   "cell_type": "code",
   "source": "array2",
   "id": "eded55f1e1315d05",
   "outputs": [
    {
     "data": {
      "text/plain": [
       "array([[121, 245, 208, ...,  71, 243,  41],\n",
       "       [183, 146,  79, ..., 244, 115,  29],\n",
       "       [223, 227,  22, ..., 178, 230, 231],\n",
       "       ...,\n",
       "       [158, 212, 163, ..., 130,  72, 240],\n",
       "       [  5, 196,  96, ...,  64,  86,  65],\n",
       "       [248, 205, 241, ...,  48,   7, 247]], dtype=int32)"
      ]
     },
     "execution_count": 5,
     "metadata": {},
     "output_type": "execute_result"
    }
   ],
   "execution_count": 5
  },
  {
   "metadata": {},
   "cell_type": "markdown",
   "source": "## By Loop for ",
   "id": "2515523639d89b66"
  },
  {
   "metadata": {
    "ExecuteTime": {
     "end_time": "2024-10-04T12:46:05.921551Z",
     "start_time": "2024-10-04T12:46:05.467825Z"
    }
   },
   "cell_type": "code",
   "source": [
    "%%time\n",
    "column = 0\n",
    "row = 0\n",
    "\n",
    "for i1 in range(1000):\n",
    "    for i2 in range(1000):\n",
    "        arr1 = array1[i1][i2]\n",
    "        arr2 = array2[i1][i2]\n",
    "\n",
    "        if arr1 == arr2:\n",
    "            result[i1,i2] = 225\n",
    "        else: \n",
    "            result[i1,i2] = 0\n",
    "        row += 1\n",
    "    column += 1"
   ],
   "id": "d608f0f8707bd4ea",
   "outputs": [
    {
     "name": "stdout",
     "output_type": "stream",
     "text": [
      "CPU times: total: 141 ms\n",
      "Wall time: 451 ms\n"
     ]
    }
   ],
   "execution_count": 10
  },
  {
   "metadata": {
    "ExecuteTime": {
     "end_time": "2024-10-04T12:46:06.106250Z",
     "start_time": "2024-10-04T12:46:06.102713Z"
    }
   },
   "cell_type": "code",
   "source": "result",
   "id": "97d385fdd35d1203",
   "outputs": [
    {
     "data": {
      "text/plain": [
       "array([[  0,   0,   0, ...,   0,   0,   0],\n",
       "       [  0,   0,   0, ...,   0,   0,   0],\n",
       "       [  0,   0,   0, ...,   0,   0,   0],\n",
       "       ...,\n",
       "       [  0,   0,   0, ...,   0,   0,   0],\n",
       "       [  0,   0, 225, ...,   0,   0,   0],\n",
       "       [  0,   0,   0, ...,   0,   0,   0]])"
      ]
     },
     "execution_count": 11,
     "metadata": {},
     "output_type": "execute_result"
    }
   ],
   "execution_count": 11
  },
  {
   "metadata": {},
   "cell_type": "markdown",
   "source": "## By numpy method",
   "id": "8d5f86241e6be33b"
  },
  {
   "metadata": {
    "ExecuteTime": {
     "end_time": "2024-10-04T12:46:06.185373Z",
     "start_time": "2024-10-04T12:46:06.179454Z"
    }
   },
   "cell_type": "code",
   "source": [
    "%%time\n",
    "result = np.where(array1 == array2,255,0)"
   ],
   "id": "3377213c821dacb6",
   "outputs": [
    {
     "name": "stdout",
     "output_type": "stream",
     "text": [
      "CPU times: total: 0 ns\n",
      "Wall time: 2.04 ms\n"
     ]
    }
   ],
   "execution_count": 12
  },
  {
   "metadata": {
    "ExecuteTime": {
     "end_time": "2024-10-04T12:48:07.993669Z",
     "start_time": "2024-10-04T12:48:07.989054Z"
    }
   },
   "cell_type": "code",
   "source": "result",
   "id": "f28b0c2e4eaf7f67",
   "outputs": [
    {
     "data": {
      "text/plain": [
       "array([[  0,   0,   0, ...,   0,   0,   0],\n",
       "       [  0,   0,   0, ...,   0,   0,   0],\n",
       "       [  0,   0,   0, ...,   0,   0,   0],\n",
       "       ...,\n",
       "       [  0,   0,   0, ...,   0,   0,   0],\n",
       "       [  0,   0, 255, ...,   0,   0,   0],\n",
       "       [  0,   0,   0, ...,   0,   0,   0]])"
      ]
     },
     "execution_count": 14,
     "metadata": {},
     "output_type": "execute_result"
    }
   ],
   "execution_count": 14
  },
  {
   "metadata": {},
   "cell_type": "markdown",
   "source": "## result ",
   "id": "b24e00ecbff946bd"
  },
  {
   "metadata": {},
   "cell_type": "markdown",
   "source": [
    "time in result1 (use for) : 451 ms\n",
    "\n",
    "time in result1 (use np.where) : 2 ms"
   ],
   "id": "be36c38aafb197db"
  }
 ],
 "metadata": {
  "kernelspec": {
   "display_name": "Python 3",
   "language": "python",
   "name": "python3"
  },
  "language_info": {
   "codemirror_mode": {
    "name": "ipython",
    "version": 2
   },
   "file_extension": ".py",
   "mimetype": "text/x-python",
   "name": "python",
   "nbconvert_exporter": "python",
   "pygments_lexer": "ipython2",
   "version": "2.7.6"
  }
 },
 "nbformat": 4,
 "nbformat_minor": 5
}

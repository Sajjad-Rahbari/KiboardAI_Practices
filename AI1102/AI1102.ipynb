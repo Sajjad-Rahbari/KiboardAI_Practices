{
 "cells": [
  {
   "metadata": {},
   "cell_type": "markdown",
   "source": "# you can copy this code - Sajjad Rahbari ",
   "id": "32ff7006cba9310"
  },
  {
   "metadata": {},
   "cell_type": "markdown",
   "source": "if you is student of kiboard event | you can't use this code for answer each practice",
   "id": "32ff7006cba9311"
  },
  {
   "metadata": {
    "ExecuteTime": {
     "end_time": "2024-09-17T11:31:56.383667Z",
     "start_time": "2024-09-17T11:31:55.414066Z"
    }
   },
   "cell_type": "code",
   "source": [
    "import pandas as pd\n",
    "import matplotlib.pyplot as plt"
   ],
   "id": "c32c2b7a14f1d009",
   "outputs": [],
   "execution_count": 2
  },
  {
   "metadata": {
    "ExecuteTime": {
     "end_time": "2024-09-17T11:33:17.478971Z",
     "start_time": "2024-09-17T11:33:17.472151Z"
    }
   },
   "cell_type": "code",
   "source": "df = pd.read_csv(\"dataset_q1.csv\")",
   "id": "b06e349bd82bfba",
   "outputs": [],
   "execution_count": 4
  },
  {
   "metadata": {
    "ExecuteTime": {
     "end_time": "2024-09-17T11:33:21.822931Z",
     "start_time": "2024-09-17T11:33:21.792630Z"
    }
   },
   "cell_type": "code",
   "source": "df",
   "id": "5b8deb146e8518e7",
   "outputs": [
    {
     "data": {
      "text/plain": [
       "           x         y  label\n",
       "0   4.218503  2.234192      1\n",
       "1   0.907799  0.459844      1\n",
       "2  -0.276525  5.081278      0\n",
       "3   0.088484  2.322991      0\n",
       "4   3.243297  1.214606      1\n",
       "..       ...       ...    ...\n",
       "95 -1.576720  4.957406      0\n",
       "96  1.411649 -1.325739      1\n",
       "97  3.004688  0.985215      1\n",
       "98 -0.637628  4.091047      0\n",
       "99  0.829832  1.742027      1\n",
       "\n",
       "[100 rows x 3 columns]"
      ],
      "text/html": [
       "<div>\n",
       "<style scoped>\n",
       "    .dataframe tbody tr th:only-of-type {\n",
       "        vertical-align: middle;\n",
       "    }\n",
       "\n",
       "    .dataframe tbody tr th {\n",
       "        vertical-align: top;\n",
       "    }\n",
       "\n",
       "    .dataframe thead th {\n",
       "        text-align: right;\n",
       "    }\n",
       "</style>\n",
       "<table border=\"1\" class=\"dataframe\">\n",
       "  <thead>\n",
       "    <tr style=\"text-align: right;\">\n",
       "      <th></th>\n",
       "      <th>x</th>\n",
       "      <th>y</th>\n",
       "      <th>label</th>\n",
       "    </tr>\n",
       "  </thead>\n",
       "  <tbody>\n",
       "    <tr>\n",
       "      <th>0</th>\n",
       "      <td>4.218503</td>\n",
       "      <td>2.234192</td>\n",
       "      <td>1</td>\n",
       "    </tr>\n",
       "    <tr>\n",
       "      <th>1</th>\n",
       "      <td>0.907799</td>\n",
       "      <td>0.459844</td>\n",
       "      <td>1</td>\n",
       "    </tr>\n",
       "    <tr>\n",
       "      <th>2</th>\n",
       "      <td>-0.276525</td>\n",
       "      <td>5.081278</td>\n",
       "      <td>0</td>\n",
       "    </tr>\n",
       "    <tr>\n",
       "      <th>3</th>\n",
       "      <td>0.088484</td>\n",
       "      <td>2.322991</td>\n",
       "      <td>0</td>\n",
       "    </tr>\n",
       "    <tr>\n",
       "      <th>4</th>\n",
       "      <td>3.243297</td>\n",
       "      <td>1.214606</td>\n",
       "      <td>1</td>\n",
       "    </tr>\n",
       "    <tr>\n",
       "      <th>...</th>\n",
       "      <td>...</td>\n",
       "      <td>...</td>\n",
       "      <td>...</td>\n",
       "    </tr>\n",
       "    <tr>\n",
       "      <th>95</th>\n",
       "      <td>-1.576720</td>\n",
       "      <td>4.957406</td>\n",
       "      <td>0</td>\n",
       "    </tr>\n",
       "    <tr>\n",
       "      <th>96</th>\n",
       "      <td>1.411649</td>\n",
       "      <td>-1.325739</td>\n",
       "      <td>1</td>\n",
       "    </tr>\n",
       "    <tr>\n",
       "      <th>97</th>\n",
       "      <td>3.004688</td>\n",
       "      <td>0.985215</td>\n",
       "      <td>1</td>\n",
       "    </tr>\n",
       "    <tr>\n",
       "      <th>98</th>\n",
       "      <td>-0.637628</td>\n",
       "      <td>4.091047</td>\n",
       "      <td>0</td>\n",
       "    </tr>\n",
       "    <tr>\n",
       "      <th>99</th>\n",
       "      <td>0.829832</td>\n",
       "      <td>1.742027</td>\n",
       "      <td>1</td>\n",
       "    </tr>\n",
       "  </tbody>\n",
       "</table>\n",
       "<p>100 rows × 3 columns</p>\n",
       "</div>"
      ]
     },
     "execution_count": 5,
     "metadata": {},
     "output_type": "execute_result"
    }
   ],
   "execution_count": 5
  },
  {
   "metadata": {},
   "cell_type": "code",
   "source": [
    "xData = list(df[\"x\"])\n",
    "yData = list(df[\"y\"])\n",
    "plt.scatter(xData, yData, label=\"All Data\")\n",
    "plt.xlabel(\"x\")\n",
    "plt.ylabel(\"y\")\n",
    "plt.title(\"Scatter Plot\")\n",
    "plt.legend()\n",
    "plt.show()"
   ],
   "id": "7f234c9325527626",
   "outputs": [],
   "execution_count": null
  },
  {
   "metadata": {
    "ExecuteTime": {
     "end_time": "2024-09-17T13:28:55.681569Z",
     "start_time": "2024-09-17T13:28:55.599643Z"
    }
   },
   "cell_type": "code",
   "source": [
    "class1 = df[df[\"label\"]==1]\n",
    "class0 = df[df[\"label\"]==0]\n",
    "plt.scatter(class1[\"x\"], class1[\"y\"], color= \"red\", label=\"All Data\")\n",
    "plt.scatter(class0[\"x\"], class0[\"y\"], color= \"green\", label=\"All Data\")\n",
    "plt.xlabel(\"x\")\n",
    "plt.ylabel(\"y\")\n",
    "plt.title(\"Scatter Plot\")\n",
    "plt.legend()\n",
    "plt.show()"
   ],
   "id": "58434f63294c57a3",
   "outputs": [
    {
     "data": {
      "text/plain": [
       "<Figure size 640x480 with 1 Axes>"
      ],
      "image/png": "[encoded data removed]"
     },
     "metadata": {},
     "output_type": "display_data"
    }
   ],
   "execution_count": 11
  }
 ],
 "metadata": {
  "kernelspec": {
   "display_name": "Python 3",
   "language": "python",
   "name": "python3"
  },
  "language_info": {
   "codemirror_mode": {
    "name": "ipython",
    "version": 2
   },
   "file_extension": ".py",
   "mimetype": "text/x-python",
   "name": "python",
   "nbconvert_exporter": "python",
   "pygments_lexer": "ipython2",
   "version": "2.7.6"
  }
 },
 "nbformat": 4,
 "nbformat_minor": 5
}
